{
 "cells": [
  {
   "cell_type": "markdown",
   "id": "5efd181d",
   "metadata": {},
   "source": [
    "# Check the valid Identifiers and invalid identifers using Python"
   ]
  },
  {
   "cell_type": "markdown",
   "id": "aebe5a40",
   "metadata": {},
   "source": [
    "1. **Run all the identifiers and seprate valid and Invalid Identifiers?**\n",
    "\n",
    "2. **Why Python treating them as invalid Identifers.Explain?**"
   ]
  },
  {
   "cell_type": "markdown",
   "id": "77c112d3",
   "metadata": {},
   "source": [
    "* my_variable = 25\n",
    "**Valied**\n",
    "\n",
    "* counter = 40.7\n",
    "**Valied**\n",
    "\n",
    "* _total = \"Hello\"\n",
    "**Valied**\n",
    "\n",
    " - 123abc   = 34      \n",
    " **invalied**\n",
    " - my variable   =6.7\n",
    "  **invalied**\n",
    " - @count  = \"hi\"      \n",
    "  **invalied**\n",
    " - for   = \"True\"\n",
    "  **invalied**\n",
    "\n",
    "* Name123 = 136\n",
    " **valied**\n",
    "* myFunction = True\n",
    " **valied**\n",
    "* _data = False\n",
    " **valied**\n",
    "- if_condition? = \"Innomatics\"\n",
    " **invalied**\n",
    "- class = \"Hyderabad\" \n",
    "**invalied**"
   ]
  },
  {
   "cell_type": "markdown",
   "id": "35c32a6f",
   "metadata": {},
   "source": [
    "### Use different identifiers and assign the below values"
   ]
  },
  {
   "cell_type": "markdown",
   "id": "d606e5ac",
   "metadata": {},
   "source": [
    "10\n",
    "**Valied because it is an integer**\n",
    "\n",
    "-5\n",
    "**Valied because it is an\n",
    "3.14159\n",
    "\n",
    "-0.12345\n",
    "\n",
    "1000\n",
    "\n",
    "\"Hello, World!\"\n",
    "\n",
    "\"Python\"\n",
    "\n",
    "\"I am learning\"\n",
    "\n",
    "\"Text type\"\n",
    "\n",
    "\"String\"\n",
    "\n",
    "True\n",
    "\n",
    "False\n",
    "\n",
    "True\n",
    "\n",
    "False\n",
    "\n",
    "True\n",
    "\n"
   ]
  },
  {
   "cell_type": "code",
   "execution_count": 1,
   "id": "a8ce7a79",
   "metadata": {},
   "outputs": [],
   "source": [
    "my_variable = 25"
   ]
  },
  {
   "cell_type": "code",
   "execution_count": 4,
   "id": "b720d7cf",
   "metadata": {},
   "outputs": [
    {
     "name": "stdout",
     "output_type": "stream",
     "text": [
      "25\n"
     ]
    }
   ],
   "source": [
    "print (my_variable)"
   ]
  },
  {
   "cell_type": "code",
   "execution_count": 5,
   "id": "c1b09e3e",
   "metadata": {},
   "outputs": [],
   "source": [
    "counter = 40.7"
   ]
  },
  {
   "cell_type": "code",
   "execution_count": 6,
   "id": "ba577478",
   "metadata": {},
   "outputs": [
    {
     "name": "stdout",
     "output_type": "stream",
     "text": [
      "40.7\n"
     ]
    }
   ],
   "source": [
    "print(counter )"
   ]
  },
  {
   "cell_type": "code",
   "execution_count": 7,
   "id": "7b39353c",
   "metadata": {},
   "outputs": [],
   "source": [
    "_total = \"Hello\"\n"
   ]
  },
  {
   "cell_type": "code",
   "execution_count": 8,
   "id": "878f8718",
   "metadata": {},
   "outputs": [
    {
     "name": "stdout",
     "output_type": "stream",
     "text": [
      "Hello\n"
     ]
    }
   ],
   "source": [
    "print(_total)"
   ]
  },
  {
   "cell_type": "code",
   "execution_count": 9,
   "id": "61e80eb8",
   "metadata": {},
   "outputs": [
    {
     "ename": "SyntaxError",
     "evalue": "invalid decimal literal (2594609077.py, line 1)",
     "output_type": "error",
     "traceback": [
      "\u001b[1;36m  Cell \u001b[1;32mIn[9], line 1\u001b[1;36m\u001b[0m\n\u001b[1;33m    123abc = 34\u001b[0m\n\u001b[1;37m      ^\u001b[0m\n\u001b[1;31mSyntaxError\u001b[0m\u001b[1;31m:\u001b[0m invalid decimal literal\n"
     ]
    }
   ],
   "source": [
    "123abc = 34"
   ]
  },
  {
   "cell_type": "code",
   "execution_count": 10,
   "id": "0a760214",
   "metadata": {},
   "outputs": [
    {
     "ename": "SyntaxError",
     "evalue": "invalid syntax (4132032776.py, line 1)",
     "output_type": "error",
     "traceback": [
      "\u001b[1;36m  Cell \u001b[1;32mIn[10], line 1\u001b[1;36m\u001b[0m\n\u001b[1;33m    my variable =6.7\u001b[0m\n\u001b[1;37m       ^\u001b[0m\n\u001b[1;31mSyntaxError\u001b[0m\u001b[1;31m:\u001b[0m invalid syntax\n"
     ]
    }
   ],
   "source": [
    "my variable =6.7"
   ]
  },
  {
   "cell_type": "code",
   "execution_count": 11,
   "id": "e1648da9",
   "metadata": {},
   "outputs": [
    {
     "ename": "SyntaxError",
     "evalue": "invalid syntax. Maybe you meant '==' or ':=' instead of '='? (388528748.py, line 1)",
     "output_type": "error",
     "traceback": [
      "\u001b[1;36m  Cell \u001b[1;32mIn[11], line 1\u001b[1;36m\u001b[0m\n\u001b[1;33m    @count = \"hi\"\u001b[0m\n\u001b[1;37m     ^\u001b[0m\n\u001b[1;31mSyntaxError\u001b[0m\u001b[1;31m:\u001b[0m invalid syntax. Maybe you meant '==' or ':=' instead of '='?\n"
     ]
    }
   ],
   "source": [
    "@count = \"hi\""
   ]
  },
  {
   "cell_type": "code",
   "execution_count": 12,
   "id": "b5e9b8ef",
   "metadata": {},
   "outputs": [
    {
     "ename": "SyntaxError",
     "evalue": "invalid syntax (3895380788.py, line 1)",
     "output_type": "error",
     "traceback": [
      "\u001b[1;36m  Cell \u001b[1;32mIn[12], line 1\u001b[1;36m\u001b[0m\n\u001b[1;33m    for = \"True\"\u001b[0m\n\u001b[1;37m        ^\u001b[0m\n\u001b[1;31mSyntaxError\u001b[0m\u001b[1;31m:\u001b[0m invalid syntax\n"
     ]
    }
   ],
   "source": [
    "for = \"True\""
   ]
  },
  {
   "cell_type": "code",
   "execution_count": 14,
   "id": "88dfddde",
   "metadata": {},
   "outputs": [],
   "source": [
    "Name123 = 136"
   ]
  },
  {
   "cell_type": "code",
   "execution_count": 15,
   "id": "0434943d",
   "metadata": {},
   "outputs": [
    {
     "name": "stdout",
     "output_type": "stream",
     "text": [
      "136\n"
     ]
    }
   ],
   "source": [
    "print(Name123)"
   ]
  },
  {
   "cell_type": "code",
   "execution_count": 16,
   "id": "33af48a9",
   "metadata": {},
   "outputs": [],
   "source": [
    "myFunction = True"
   ]
  },
  {
   "cell_type": "code",
   "execution_count": 17,
   "id": "deca9bc2",
   "metadata": {},
   "outputs": [
    {
     "name": "stdout",
     "output_type": "stream",
     "text": [
      "True\n"
     ]
    }
   ],
   "source": [
    "print(myFunction)"
   ]
  },
  {
   "cell_type": "code",
   "execution_count": 18,
   "id": "6b1ef9e6",
   "metadata": {},
   "outputs": [],
   "source": [
    "_data = False"
   ]
  },
  {
   "cell_type": "code",
   "execution_count": 19,
   "id": "7c8c0d56",
   "metadata": {},
   "outputs": [
    {
     "name": "stdout",
     "output_type": "stream",
     "text": [
      "False\n"
     ]
    }
   ],
   "source": [
    "print(_data)"
   ]
  },
  {
   "cell_type": "code",
   "execution_count": 20,
   "id": "353fa33e",
   "metadata": {},
   "outputs": [
    {
     "ename": "SyntaxError",
     "evalue": "invalid syntax (51595175.py, line 1)",
     "output_type": "error",
     "traceback": [
      "\u001b[1;36m  Cell \u001b[1;32mIn[20], line 1\u001b[1;36m\u001b[0m\n\u001b[1;33m    if_condition? = \"Innomatics\"\u001b[0m\n\u001b[1;37m                ^\u001b[0m\n\u001b[1;31mSyntaxError\u001b[0m\u001b[1;31m:\u001b[0m invalid syntax\n"
     ]
    }
   ],
   "source": [
    "if_condition? = \"Innomatics\""
   ]
  },
  {
   "cell_type": "code",
   "execution_count": 21,
   "id": "945e3a5e",
   "metadata": {},
   "outputs": [
    {
     "ename": "SyntaxError",
     "evalue": "invalid syntax (423682886.py, line 1)",
     "output_type": "error",
     "traceback": [
      "\u001b[1;36m  Cell \u001b[1;32mIn[21], line 1\u001b[1;36m\u001b[0m\n\u001b[1;33m    class = \"Hyderabad\"\u001b[0m\n\u001b[1;37m          ^\u001b[0m\n\u001b[1;31mSyntaxError\u001b[0m\u001b[1;31m:\u001b[0m invalid syntax\n"
     ]
    }
   ],
   "source": [
    "class = \"Hyderabad\""
   ]
  },
  {
   "cell_type": "markdown",
   "id": "5f4f5edd",
   "metadata": {},
   "source": [
    "**Use different identifiers and assign the below values**"
   ]
  },
  {
   "cell_type": "code",
   "execution_count": 27,
   "id": "e626efea",
   "metadata": {},
   "outputs": [
    {
     "name": "stdout",
     "output_type": "stream",
     "text": [
      "10\n"
     ]
    }
   ],
   "source": [
    "age=10\n",
    "print(age)"
   ]
  },
  {
   "cell_type": "code",
   "execution_count": 31,
   "id": "41afaa53",
   "metadata": {},
   "outputs": [],
   "source": [
    "my_variable=10"
   ]
  },
  {
   "cell_type": "code",
   "execution_count": 32,
   "id": "fd2391e8",
   "metadata": {},
   "outputs": [
    {
     "name": "stdout",
     "output_type": "stream",
     "text": [
      "10\n"
     ]
    }
   ],
   "source": [
    "print(my_variable)"
   ]
  },
  {
   "cell_type": "code",
   "execution_count": 33,
   "id": "e592cedc",
   "metadata": {},
   "outputs": [
    {
     "name": "stdout",
     "output_type": "stream",
     "text": [
      "-5\n"
     ]
    }
   ],
   "source": [
    "num=-5\n",
    "print(num)"
   ]
  },
  {
   "cell_type": "code",
   "execution_count": 35,
   "id": "4f36b0c6",
   "metadata": {},
   "outputs": [
    {
     "name": "stdout",
     "output_type": "stream",
     "text": [
      "3.14159\n"
     ]
    }
   ],
   "source": [
    "float=3.14159\n",
    "print(float)"
   ]
  },
  {
   "cell_type": "code",
   "execution_count": 36,
   "id": "5e34f245",
   "metadata": {},
   "outputs": [
    {
     "name": "stdout",
     "output_type": "stream",
     "text": [
      "-0.12345\n"
     ]
    }
   ],
   "source": [
    "my_variable=-0.12345\n",
    "print(my_variable)"
   ]
  },
  {
   "cell_type": "code",
   "execution_count": 37,
   "id": "5592e452",
   "metadata": {},
   "outputs": [
    {
     "name": "stdout",
     "output_type": "stream",
     "text": [
      "1000\n"
     ]
    }
   ],
   "source": [
    "a=1000\n",
    "print(a)"
   ]
  },
  {
   "cell_type": "code",
   "execution_count": 40,
   "id": "c21619e9",
   "metadata": {},
   "outputs": [
    {
     "name": "stdout",
     "output_type": "stream",
     "text": [
      "Hello,world!\n"
     ]
    }
   ],
   "source": [
    "a=\"Hello,\"\n",
    "b=\"world!\"\n",
    "print(a+b)\n"
   ]
  },
  {
   "cell_type": "code",
   "execution_count": 41,
   "id": "b1b7ab18",
   "metadata": {},
   "outputs": [
    {
     "name": "stdout",
     "output_type": "stream",
     "text": [
      "python\n"
     ]
    }
   ],
   "source": [
    "a=\"python\"\n",
    "print(a)"
   ]
  },
  {
   "cell_type": "code",
   "execution_count": 48,
   "id": "f3c40fd0",
   "metadata": {},
   "outputs": [
    {
     "name": "stdout",
     "output_type": "stream",
     "text": [
      "I am learning\n"
     ]
    }
   ],
   "source": [
    "a=\"I am learning\"\n",
    "b=\" python\"\n",
    "print(a)"
   ]
  },
  {
   "cell_type": "code",
   "execution_count": 46,
   "id": "36d9c0d6",
   "metadata": {},
   "outputs": [
    {
     "name": "stdout",
     "output_type": "stream",
     "text": [
      "Text type\n"
     ]
    }
   ],
   "source": [
    "y=\"Text type\"\n",
    "print(y)"
   ]
  },
  {
   "cell_type": "code",
   "execution_count": 47,
   "id": "91bc9f31",
   "metadata": {},
   "outputs": [
    {
     "name": "stdout",
     "output_type": "stream",
     "text": [
      "string\n"
     ]
    }
   ],
   "source": [
    "x=\"string\"\n",
    "print(x)"
   ]
  },
  {
   "cell_type": "code",
   "execution_count": 49,
   "id": "8b4abe31",
   "metadata": {},
   "outputs": [
    {
     "name": "stdout",
     "output_type": "stream",
     "text": [
      "True\n"
     ]
    }
   ],
   "source": [
    "a=True\n",
    "print(a)"
   ]
  },
  {
   "cell_type": "code",
   "execution_count": 50,
   "id": "e97ddcc6",
   "metadata": {},
   "outputs": [
    {
     "name": "stdout",
     "output_type": "stream",
     "text": [
      "False\n"
     ]
    }
   ],
   "source": [
    "bool_1=False\n",
    "print(bool_1)"
   ]
  },
  {
   "cell_type": "code",
   "execution_count": 51,
   "id": "3a84c12a",
   "metadata": {},
   "outputs": [
    {
     "name": "stdout",
     "output_type": "stream",
     "text": [
      "True\n"
     ]
    }
   ],
   "source": [
    "abcd=True\n",
    "print(abcd)"
   ]
  },
  {
   "cell_type": "code",
   "execution_count": 52,
   "id": "efb2798b",
   "metadata": {},
   "outputs": [
    {
     "name": "stdout",
     "output_type": "stream",
     "text": [
      "False\n"
     ]
    }
   ],
   "source": [
    "Data=False\n",
    "print(Data)"
   ]
  },
  {
   "cell_type": "code",
   "execution_count": 53,
   "id": "e1333a46",
   "metadata": {},
   "outputs": [
    {
     "name": "stdout",
     "output_type": "stream",
     "text": [
      "True\n"
     ]
    }
   ],
   "source": [
    "bool_2=True\n",
    "print(bool_2)"
   ]
  },
  {
   "cell_type": "code",
   "execution_count": null,
   "id": "ebca65e1",
   "metadata": {},
   "outputs": [],
   "source": []
  }
 ],
 "metadata": {
  "kernelspec": {
   "display_name": "Python 3 (ipykernel)",
   "language": "python",
   "name": "python3"
  },
  "language_info": {
   "codemirror_mode": {
    "name": "ipython",
    "version": 3
   },
   "file_extension": ".py",
   "mimetype": "text/x-python",
   "name": "python",
   "nbconvert_exporter": "python",
   "pygments_lexer": "ipython3",
   "version": "3.11.4"
  }
 },
 "nbformat": 4,
 "nbformat_minor": 5
}
