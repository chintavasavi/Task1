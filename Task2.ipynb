{
 "cells": [
  {
   "cell_type": "markdown",
   "id": "b8536ea7",
   "metadata": {},
   "source": [
    "* Write a program that calculates the `sum, difference, product, and quotient` of two numbers: 10 and 5.\n",
    "\n",
    "* Create a program that calculates the `area of a circle` with a radius of 4.5 units."
   ]
  },
  {
   "cell_type": "markdown",
   "id": "3f81b9d8",
   "metadata": {},
   "source": [
    "*  Write a program that `swaps` the values of two variables: x with a value of 5 and \"y\" with a value of 10.\n",
    "* Create a program that calculates `compound interest` for a principal amount of $1000, an interest rate of 5%, and a time period of 3 years."
   ]
  },
  {
   "cell_type": "markdown",
   "id": "768483d0",
   "metadata": {},
   "source": [
    "* Write a program that `compares` two numbers: 7 and 12, and determines whether the first number is greater than, less than, or equal to the second number.\n",
    "* Create a program that `checks` if a person of age 18 is eligible to vote based on the voting age requirement.(True/False)"
   ]
  },
  {
   "cell_type": "markdown",
   "id": "7881a204",
   "metadata": {},
   "source": [
    "* Create a program that `swaps` the values of two integers: `a` with a value of 10 and `b` with a value of 20 using\n",
    " *  bitwise XOR (^) operator.\n",
    " * Logical AND\n",
    " * Logical OR\n",
    " * Logical NOT"
   ]
  },
  {
   "cell_type": "markdown",
   "id": "1844e65c",
   "metadata": {},
   "source": [
    "*  Create a Python program that calculates the `area of a rectangle`. Prompt the `user to enter` the length and width of the rectangle, `store them` in variables, and compute the area using the formula:area length width.Finally, `print the calculated area.\n",
    "\n",
    "* Create a Python program that calculates the `average` of three exam scores. Prompt the user to enter the scores, `store them` in variables, calculate the average, and print the result.\n",
    "\n",
    "* Write a Python program that `converts` temperature from Celsius to Fahrenheit. Prompt the user to enter a temperature in Celsius, store it in a variable, and convert it to Fahrenheit using the formula: `Fahrenheit = (Celsius* 9/5)+32`, and print the converted temperature.\n",
    "\n",
    "* What are the `logical operators` in Python? Explain `each one` with an example.\n",
    "\n",
    "* What are the `membership` operators in Python? Explain their usage with examples\n",
    "\n",
    "* List and briefly explain the `basic data types` available in Python.\n",
    "\n",
    "* Write a Python code snippet that `assigns a value to a variable `and determines its `data type` using the type() function."
   ]
  },
  {
   "cell_type": "markdown",
   "id": "95ed62b5",
   "metadata": {},
   "source": [
    "Assignment: Basic Python Operators\n",
    "\n",
    "**Task 1: Arithmetic Operators**\n",
    "1. Write a Python program that takes two user-input numbers and displays their sum using the addition operator.\n",
    "2. Create a program to calculate the area of a rectangle. Prompt the user for the length and width, then use multiplication to find the area.\n",
    "3. Implement a program that converts temperature from Celsius to Fahrenheit using the formula: Fahrenheit = (Celsius * 9/5) + 32.\n",
    "\n",
    "**Task 2: Comparison Operators**\n",
    "1. Write a program that compares two user-input numbers and prints whether the first number is greater than the second number or not.\n",
    "2. Create a program that determines whether a user-input year is a leap year or not. A leap year is divisible by 4 and not divisible by 100, unless it is also divisible by 400.\n",
    "3. Implement a simple guessing game. Generate a random number between 1 and 100 and have the user guess the number. Provide feedback if their guess is too high or too low, and let them know when they've guessed correctly.\n",
    "\n",
    "**Task 3: Logical Operators**\n",
    "1. Write a program that checks whether a user-input number is positive and even using logical AND (`and`) operator.\n",
    "2. Create a login system where you define a correct username and password. Ask the user for their input and compare it with the correct credentials using logical OR (`or`) operator. Provide access if either the username or password is correct.\n",
    "3. Implement a program that determines whether a given year is a leap year and divisible by 7 using logical NOT (`not`) operator.\n",
    "\n",
    "**Task 4: Assignment Operators**\n",
    "1. Write a program to calculate the square of a number using the exponentiation operator (`**`) and assign it back to the same variable.\n",
    "2. Create a program that keeps track of the total score in a game. Prompt the user for their latest score and update the total score using the addition assignment operator (`+=`).\n",
    "3. Implement a program to convert seconds into hours, minutes, and remaining seconds using both division and modulo operators, and then assign each value using assignment operators.\n",
    "\n",
    "**Task 5: Bitwise Operators**\n",
    "1. Write a program that performs a bitwise AND operation between two user-input numbers and displays the result.\n",
    "2. Create a program to toggle the nth bit of a given number. Ask the user for the number and the value of n, then use bitwise XOR (^) operator to toggle the bit.\n",
    "3. Implement a program to swap the values of two variables without using a temporary variable, only using bitwise XOR (^) operator.\n",
    "\n"
   ]
  },
  {
   "cell_type": "code",
   "execution_count": null,
   "id": "04ee446a",
   "metadata": {},
   "outputs": [],
   "source": []
  }
 ],
 "metadata": {
  "kernelspec": {
   "display_name": "Python 3 (ipykernel)",
   "language": "python",
   "name": "python3"
  },
  "language_info": {
   "codemirror_mode": {
    "name": "ipython",
    "version": 3
   },
   "file_extension": ".py",
   "mimetype": "text/x-python",
   "name": "python",
   "nbconvert_exporter": "python",
   "pygments_lexer": "ipython3",
   "version": "3.11.4"
  }
 },
 "nbformat": 4,
 "nbformat_minor": 5
}
