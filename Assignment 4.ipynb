{
 "cells": [
  {
   "cell_type": "markdown",
   "id": "98f89d51",
   "metadata": {},
   "source": [
    "Ask user to enter a website name and check whether it is valid or not(True/False)"
   ]
  },
  {
   "cell_type": "code",
   "execution_count": 1,
   "id": "d177e46c",
   "metadata": {},
   "outputs": [
    {
     "name": "stdout",
     "output_type": "stream",
     "text": [
      "Enter website:  www.google.com\n",
      "True\n",
      "True\n"
     ]
    }
   ],
   "source": [
    "website = input(\"Enter website:  \")  # asking user to give inpu\n",
    "print(website.startswith('www'))\n",
    "print(website.endswith('.com'))"
   ]
  },
  {
   "cell_type": "markdown",
   "id": "05d0d80f",
   "metadata": {},
   "source": [
    "name = \"Innomatics\", course = \"Data Science\" write python code in different ways to show output as : \"Hello World I am learning Data Science in Innomatics\""
   ]
  },
  {
   "cell_type": "code",
   "execution_count": 3,
   "id": "db23deef",
   "metadata": {},
   "outputs": [
    {
     "name": "stdout",
     "output_type": "stream",
     "text": [
      "Hello world i am learing  Data Science in Innomatics\n"
     ]
    }
   ],
   "source": [
    "name = \"Innomatics\"\n",
    "course = \"Data Science\"\n",
    "print(\"Hello world i am learing \",course,\"in\",name)                #first way "
   ]
  },
  {
   "cell_type": "code",
   "execution_count": 11,
   "id": "76fa774e",
   "metadata": {},
   "outputs": [
    {
     "name": "stdout",
     "output_type": "stream",
     "text": [
      "Hello world i am learningData ScienceinInnomatics\n"
     ]
    }
   ],
   "source": [
    "print(\"Hello world i am learning\"+ course + \"in\"  + name)"
   ]
  },
  {
   "cell_type": "code",
   "execution_count": 20,
   "id": "0ba026e1",
   "metadata": {},
   "outputs": [
    {
     "name": "stdout",
     "output_type": "stream",
     "text": [
      "Hello world i am learing Data Science in Innomatics\n"
     ]
    }
   ],
   "source": [
    "print(\"Hello world i am learing {} in {}\" .format(course,name))        #third way"
   ]
  },
  {
   "cell_type": "code",
   "execution_count": 17,
   "id": "9db2625c",
   "metadata": {},
   "outputs": [
    {
     "name": "stdout",
     "output_type": "stream",
     "text": [
      "Hello world i am learing {course} in{name}\n"
     ]
    }
   ],
   "source": [
    "print(\"Hello world i am learing {course} in{name}\")      #fourth way"
   ]
  },
  {
   "cell_type": "markdown",
   "id": "3076a55b",
   "metadata": {},
   "source": [
    "Replace Science with Analysis in the above output."
   ]
  },
  {
   "cell_type": "code",
   "execution_count": 21,
   "id": "3d6b1fe4",
   "metadata": {},
   "outputs": [
    {
     "data": {
      "text/plain": [
       "'Data Analysis'"
      ]
     },
     "execution_count": 21,
     "metadata": {},
     "output_type": "execute_result"
    }
   ],
   "source": [
    "course = \"Data Science\"\n",
    "course.replace(\"Science\", \"Analysis\")"
   ]
  },
  {
   "cell_type": "markdown",
   "id": "1292a961",
   "metadata": {},
   "source": [
    "string = '     Hello World I am learning Python in Innomatics   ' a. How many characters are there in the string. b. Slice only 'Python' from above string c. Remove white spaces on both sides then find no.of characters in the string. d. Convert the string in Upper case"
   ]
  },
  {
   "cell_type": "code",
   "execution_count": 24,
   "id": "f31798c4",
   "metadata": {},
   "outputs": [],
   "source": [
    "string = ('Hello World I am learning Python in Innomatics')"
   ]
  },
  {
   "cell_type": "code",
   "execution_count": 25,
   "id": "52ece9ba",
   "metadata": {},
   "outputs": [
    {
     "data": {
      "text/plain": [
       "'Hello World I am learning Python in Innomatics'"
      ]
     },
     "execution_count": 25,
     "metadata": {},
     "output_type": "execute_result"
    }
   ],
   "source": [
    "string"
   ]
  },
  {
   "cell_type": "code",
   "execution_count": 27,
   "id": "589a577e",
   "metadata": {},
   "outputs": [
    {
     "data": {
      "text/plain": [
       "46"
      ]
     },
     "execution_count": 27,
     "metadata": {},
     "output_type": "execute_result"
    }
   ],
   "source": [
    "len(string)            #length of the string"
   ]
  },
  {
   "cell_type": "code",
   "execution_count": 30,
   "id": "e33aedce",
   "metadata": {},
   "outputs": [
    {
     "data": {
      "text/plain": [
       "'ng Pyth'"
      ]
     },
     "execution_count": 30,
     "metadata": {},
     "output_type": "execute_result"
    }
   ],
   "source": [
    "string [-23 : -16] "
   ]
  },
  {
   "cell_type": "code",
   "execution_count": 32,
   "id": "023af2e2",
   "metadata": {},
   "outputs": [
    {
     "name": "stdout",
     "output_type": "stream",
     "text": [
      "Hello World I am learning Python in Innomatics\n"
     ]
    }
   ],
   "source": [
    "n = string.strip()          #removing whitespace on both sides from string\n",
    "print(n)"
   ]
  },
  {
   "cell_type": "code",
   "execution_count": 34,
   "id": "4d13097a",
   "metadata": {},
   "outputs": [
    {
     "name": "stdout",
     "output_type": "stream",
     "text": [
      "HELLO WORLD I AM LEARNING PYTHON IN INNOMATICS\n"
     ]
    }
   ],
   "source": [
    "print(n.upper())"
   ]
  },
  {
   "cell_type": "markdown",
   "id": "221793f7",
   "metadata": {},
   "source": [
    "What is the index number of 'World' in above string."
   ]
  },
  {
   "cell_type": "code",
   "execution_count": 37,
   "id": "5c6378a6",
   "metadata": {},
   "outputs": [
    {
     "data": {
      "text/plain": [
       "'Hello World I am learning Python in Innomatics'"
      ]
     },
     "execution_count": 37,
     "metadata": {},
     "output_type": "execute_result"
    }
   ],
   "source": [
    "string"
   ]
  },
  {
   "cell_type": "code",
   "execution_count": 39,
   "id": "43b1631d",
   "metadata": {},
   "outputs": [
    {
     "data": {
      "text/plain": [
       "6"
      ]
     },
     "execution_count": 39,
     "metadata": {},
     "output_type": "execute_result"
    }
   ],
   "source": [
    "n.index('World')"
   ]
  },
  {
   "cell_type": "markdown",
   "id": "fa66bf8a",
   "metadata": {},
   "source": [
    "6..Split the string with respect to whitespace.after that store that splitted into a variable and find the data typeof that variable"
   ]
  },
  {
   "cell_type": "code",
   "execution_count": 41,
   "id": "67d23c16",
   "metadata": {},
   "outputs": [
    {
     "data": {
      "text/plain": [
       "'Hello World I am learning Python in Innomatics'"
      ]
     },
     "execution_count": 41,
     "metadata": {},
     "output_type": "execute_result"
    }
   ],
   "source": [
    "string"
   ]
  },
  {
   "cell_type": "code",
   "execution_count": 42,
   "id": "75528faf",
   "metadata": {},
   "outputs": [
    {
     "data": {
      "text/plain": [
       "['Hello', 'World', 'I', 'am', 'learning', 'Python', 'in', 'Innomatics']"
      ]
     },
     "execution_count": 42,
     "metadata": {},
     "output_type": "execute_result"
    }
   ],
   "source": [
    "string.split()"
   ]
  },
  {
   "cell_type": "code",
   "execution_count": 44,
   "id": "2dc67991",
   "metadata": {},
   "outputs": [],
   "source": [
    "n = string.split()         #split is used to split the values"
   ]
  },
  {
   "cell_type": "code",
   "execution_count": 45,
   "id": "60b97e9d",
   "metadata": {},
   "outputs": [
    {
     "data": {
      "text/plain": [
       "list"
      ]
     },
     "execution_count": 45,
     "metadata": {},
     "output_type": "execute_result"
    }
   ],
   "source": [
    "type(n)"
   ]
  },
  {
   "cell_type": "markdown",
   "id": "2692fa39",
   "metadata": {},
   "source": [
    "7.How many times 'a' is repeated in above string."
   ]
  },
  {
   "cell_type": "code",
   "execution_count": 47,
   "id": "c6066aff",
   "metadata": {},
   "outputs": [
    {
     "data": {
      "text/plain": [
       "3"
      ]
     },
     "execution_count": 47,
     "metadata": {},
     "output_type": "execute_result"
    }
   ],
   "source": [
    "string.count(\"a\")"
   ]
  },
  {
   "cell_type": "code",
   "execution_count": null,
   "id": "bd8d4d1d",
   "metadata": {},
   "outputs": [],
   "source": []
  }
 ],
 "metadata": {
  "kernelspec": {
   "display_name": "Python 3 (ipykernel)",
   "language": "python",
   "name": "python3"
  },
  "language_info": {
   "codemirror_mode": {
    "name": "ipython",
    "version": 3
   },
   "file_extension": ".py",
   "mimetype": "text/x-python",
   "name": "python",
   "nbconvert_exporter": "python",
   "pygments_lexer": "ipython3",
   "version": "3.11.4"
  }
 },
 "nbformat": 4,
 "nbformat_minor": 5
}
