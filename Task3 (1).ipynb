{
 "cells": [
  {
   "cell_type": "markdown",
   "id": "110812e8",
   "metadata": {},
   "source": [
    "Assignment Tasks on String Escape Characters, Indexing, and Slicing:\n",
    "\n",
    "**String Escape Characters:**\n",
    "\n",
    "Task 1:\n",
    "1. Create a string containing a sentence that includes both single and double quotes.\n",
    "2. Use escape characters to include quotes within the string.\n",
    "3. Print the modified string.\n",
    "\n",
    "Task 2:\n",
    "1. Declare a string with a backslash \\ character in it.\n",
    "2. Demonstrate the use of the escape character to print the backslash itself.\n",
    "3. Print the resulting string.\n",
    "\n",
    "Task 3:\n",
    "1. Construct a string containing newline and tab escape sequences.\n",
    "2. Print the string to display the formatted output.\n",
    "\n",
    "**Indexing and Slicing:**\n",
    "\n",
    "Task 4:\n",
    "1.  sentence = \"I want to become Data Scientist\".\n",
    "2. Access and print the `first character` of the string using indexing.\n",
    "3. Access and print the `last character` of the string using negative indexing.\n",
    "\n",
    "Task 5:\n",
    "1. What are `possible ways` yo extract `Scientist`(use forward and reverse)\n",
    "2. Use slicing to extract and print the `first word` from the string.\n",
    "3. Use slicing to extract and print the `last three` characters of the string.\n",
    "\n",
    "Task 6:\n",
    "1. name = \"Innomatics Reserach Labs\"\n",
    "2. Apply slicing to extract a substring that includes the `second to fifth` characters.\n",
    "3. `Print` the extracted substring.\n",
    "\n",
    "Task 7:\n",
    "1. string = \"Python@1234\"\n",
    "2. Use slicing to extract every second character from the string.\n",
    "3. Print the resulting sliced string.\n",
    "\n",
    "Task 8:\n",
    "1.  print last five letters.\n",
    "2. Utilize slicing to reverse the word order in the string.\n",
    "3. Print the string with the words in the reversed order.\n",
    "\n",
    "Task 9:\n",
    "1. a = \"123123123\"\n",
    "2. Apply slicing to extract only the numeric characters at odd positions.\n",
    "3. Print the sliced result.\n",
    "\n",
    "Remember to include explanations or comments for each task's code to ensure clarity. Additionally, encourage students to experiment further with different escape characters and slicing techniques beyond the provided tasks to deepen their understanding."
   ]
  },
  {
   "cell_type": "code",
   "execution_count": null,
   "id": "7608f3bf",
   "metadata": {},
   "outputs": [],
   "source": [
    "Task 1:\n",
    "\n",
    "Create a string containing a sentence that includes both single and double quotes.\n",
    "Use escape characters to include quotes within the string.\n",
    "Print the modified string."
   ]
  },
  {
   "cell_type": "code",
   "execution_count": 3,
   "id": "18e80902",
   "metadata": {},
   "outputs": [],
   "source": [
    "string='I am \"Data Analyst\" and Data data science'"
   ]
  },
  {
   "cell_type": "code",
   "execution_count": 4,
   "id": "fea4ab49",
   "metadata": {},
   "outputs": [
    {
     "data": {
      "text/plain": [
       "'I am \"Data Analyst\" and Data data science'"
      ]
     },
     "execution_count": 4,
     "metadata": {},
     "output_type": "execute_result"
    }
   ],
   "source": [
    "string"
   ]
  },
  {
   "cell_type": "markdown",
   "id": "0c2263bb",
   "metadata": {},
   "source": [
    "Use escape characters to include quotes within the string."
   ]
  },
  {
   "cell_type": "code",
   "execution_count": 28,
   "id": "b89316aa",
   "metadata": {},
   "outputs": [],
   "source": [
    "string='I am \\\"Data Analyst\\\" and Data science'"
   ]
  },
  {
   "cell_type": "code",
   "execution_count": 29,
   "id": "7aae8d52",
   "metadata": {},
   "outputs": [
    {
     "data": {
      "text/plain": [
       "'I am \"Data Analyst\" and Data science'"
      ]
     },
     "execution_count": 29,
     "metadata": {},
     "output_type": "execute_result"
    }
   ],
   "source": [
    "string"
   ]
  },
  {
   "cell_type": "code",
   "execution_count": 32,
   "id": "11a1ac06",
   "metadata": {},
   "outputs": [],
   "source": [
    "string='I am \"Data Analyst\\\" and Data science'"
   ]
  },
  {
   "cell_type": "code",
   "execution_count": 33,
   "id": "e6af6f75",
   "metadata": {},
   "outputs": [
    {
     "data": {
      "text/plain": [
       "'I am \"Data Analyst\" and Data science'"
      ]
     },
     "execution_count": 33,
     "metadata": {},
     "output_type": "execute_result"
    }
   ],
   "source": [
    "string"
   ]
  },
  {
   "cell_type": "code",
   "execution_count": 34,
   "id": "cf384d1c",
   "metadata": {},
   "outputs": [
    {
     "name": "stdout",
     "output_type": "stream",
     "text": [
      "I am Data Analyst\n",
      " and Data data science\n"
     ]
    }
   ],
   "source": [
    "print(\"I am Data Analyst\\n and Data data science\")"
   ]
  },
  {
   "cell_type": "code",
   "execution_count": 22,
   "id": "3a07d451",
   "metadata": {},
   "outputs": [
    {
     "name": "stdout",
     "output_type": "stream",
     "text": [
      "i am vasavi \n",
      " i am Data Analyst \n"
     ]
    }
   ],
   "source": [
    "print(\"i am vasavi \\n i am Data Analyst \")"
   ]
  },
  {
   "cell_type": "markdown",
   "id": "b7386e1d",
   "metadata": {},
   "source": [
    "Print the modified string."
   ]
  },
  {
   "cell_type": "code",
   "execution_count": 43,
   "id": "3cceb584",
   "metadata": {},
   "outputs": [],
   "source": [
    "string= 'innomatics Research Labs'"
   ]
  },
  {
   "cell_type": "code",
   "execution_count": 44,
   "id": "9f3766d3",
   "metadata": {},
   "outputs": [
    {
     "data": {
      "text/plain": [
       "'Innomatics research labs'"
      ]
     },
     "execution_count": 44,
     "metadata": {},
     "output_type": "execute_result"
    }
   ],
   "source": [
    "string.capitalize()"
   ]
  },
  {
   "cell_type": "code",
   "execution_count": 45,
   "id": "10a190d7",
   "metadata": {},
   "outputs": [
    {
     "data": {
      "text/plain": [
       "'INNOMATICS RESEARCH LABS'"
      ]
     },
     "execution_count": 45,
     "metadata": {},
     "output_type": "execute_result"
    }
   ],
   "source": [
    "string.upper()"
   ]
  },
  {
   "cell_type": "code",
   "execution_count": 48,
   "id": "67e751b9",
   "metadata": {},
   "outputs": [
    {
     "data": {
      "text/plain": [
       "'innomatics research labs'"
      ]
     },
     "execution_count": 48,
     "metadata": {},
     "output_type": "execute_result"
    }
   ],
   "source": [
    "string.lower()"
   ]
  },
  {
   "cell_type": "code",
   "execution_count": 51,
   "id": "cbaa6c1e",
   "metadata": {},
   "outputs": [
    {
     "data": {
      "text/plain": [
       "2"
      ]
     },
     "execution_count": 51,
     "metadata": {},
     "output_type": "execute_result"
    }
   ],
   "source": [
    "string.count('i')"
   ]
  },
  {
   "cell_type": "code",
   "execution_count": 52,
   "id": "5e69377a",
   "metadata": {},
   "outputs": [
    {
     "data": {
      "text/plain": [
       "5"
      ]
     },
     "execution_count": 52,
     "metadata": {},
     "output_type": "execute_result"
    }
   ],
   "source": [
    "string.find('a',2,8)"
   ]
  },
  {
   "cell_type": "code",
   "execution_count": 55,
   "id": "6aeb0000",
   "metadata": {},
   "outputs": [
    {
     "data": {
      "text/plain": [
       "0"
      ]
     },
     "execution_count": 55,
     "metadata": {},
     "output_type": "execute_result"
    }
   ],
   "source": [
    "string.find('i',0,3)"
   ]
  },
  {
   "cell_type": "code",
   "execution_count": 56,
   "id": "7d365c0d",
   "metadata": {},
   "outputs": [
    {
     "data": {
      "text/plain": [
       "'innomatics Research Labs'"
      ]
     },
     "execution_count": 56,
     "metadata": {},
     "output_type": "execute_result"
    }
   ],
   "source": [
    "string"
   ]
  },
  {
   "cell_type": "code",
   "execution_count": 59,
   "id": "ebf036db",
   "metadata": {},
   "outputs": [
    {
     "data": {
      "text/plain": [
       "'innomatics Research abs'"
      ]
     },
     "execution_count": 59,
     "metadata": {},
     "output_type": "execute_result"
    }
   ],
   "source": [
    "string.replace('Labs','abs',1)"
   ]
  },
  {
   "cell_type": "code",
   "execution_count": null,
   "id": "7dfc55ba",
   "metadata": {},
   "outputs": [],
   "source": [
    "Task 2:\n",
    "\n",
    "Declare a string with a backslash \\ character in it.\n",
    "Demonstrate the use of the escape character to print the backslash itself.\n",
    "Print the resulting string."
   ]
  },
  {
   "cell_type": "markdown",
   "id": "fe32cea6",
   "metadata": {},
   "source": [
    "Declare a string with a backslash \\ character in it."
   ]
  },
  {
   "cell_type": "code",
   "execution_count": 60,
   "id": "ead16fe0",
   "metadata": {},
   "outputs": [
    {
     "name": "stdout",
     "output_type": "stream",
     "text": [
      "I am @learning pyth\bon\n"
     ]
    }
   ],
   "source": [
    "print(\"I am @learning pyth\\bon\")"
   ]
  },
  {
   "cell_type": "code",
   "execution_count": 25,
   "id": "49985bf8",
   "metadata": {},
   "outputs": [
    {
     "name": "stdout",
     "output_type": "stream",
     "text": [
      "I am learning python\n"
     ]
    }
   ],
   "source": [
    "print(r\"I am learning python\")"
   ]
  },
  {
   "cell_type": "code",
   "execution_count": 26,
   "id": "9110cc2a",
   "metadata": {},
   "outputs": [
    {
     "name": "stdout",
     "output_type": "stream",
     "text": [
      "I am learning pyth\ton\n"
     ]
    }
   ],
   "source": [
    "print(\"I am learning pyth\\ton\")"
   ]
  },
  {
   "cell_type": "markdown",
   "id": "31d1b3cd",
   "metadata": {},
   "source": [
    "Demonstrate the use of the escape character to print the backslash itself."
   ]
  },
  {
   "cell_type": "code",
   "execution_count": 40,
   "id": "87fbc39a",
   "metadata": {},
   "outputs": [
    {
     "name": "stdout",
     "output_type": "stream",
     "text": [
      "I am \"Data Analyst\" and Data data\b science\n"
     ]
    }
   ],
   "source": [
    "print('I am \"Data Analyst\\\" and Data data\\b science')"
   ]
  },
  {
   "cell_type": "raw",
   "id": "34f57d2c",
   "metadata": {},
   "source": []
  },
  {
   "cell_type": "markdown",
   "id": "23c4ddb2",
   "metadata": {},
   "source": [
    "Print the resulting string."
   ]
  },
  {
   "cell_type": "code",
   "execution_count": null,
   "id": "e32097d8",
   "metadata": {},
   "outputs": [],
   "source": []
  },
  {
   "cell_type": "markdown",
   "id": "5b76eaf2",
   "metadata": {},
   "source": [
    "Task 3:\n",
    "\n",
    "Construct a string containing newline and tab escape sequences.\n",
    "Print the string to display the formatted output."
   ]
  },
  {
   "cell_type": "code",
   "execution_count": 67,
   "id": "1e35d139",
   "metadata": {},
   "outputs": [
    {
     "name": "stdout",
     "output_type": "stream",
     "text": [
      "sample \"sentece\" with various\n",
      " words\n"
     ]
    }
   ],
   "source": [
    "print(\"sample \\\"sentece\\\" with various\\n words\")"
   ]
  },
  {
   "cell_type": "markdown",
   "id": "2fa00ebc",
   "metadata": {},
   "source": [
    "Print the string to display the formatted output."
   ]
  },
  {
   "cell_type": "code",
   "execution_count": null,
   "id": "1f99b2f5",
   "metadata": {},
   "outputs": [],
   "source": []
  }
 ],
 "metadata": {
  "kernelspec": {
   "display_name": "Python 3 (ipykernel)",
   "language": "python",
   "name": "python3"
  },
  "language_info": {
   "codemirror_mode": {
    "name": "ipython",
    "version": 3
   },
   "file_extension": ".py",
   "mimetype": "text/x-python",
   "name": "python",
   "nbconvert_exporter": "python",
   "pygments_lexer": "ipython3",
   "version": "3.11.4"
  }
 },
 "nbformat": 4,
 "nbformat_minor": 5
}
